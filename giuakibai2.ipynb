{
  "nbformat": 4,
  "nbformat_minor": 0,
  "metadata": {
    "colab": {
      "name": "Copy of Untitled43.ipynb",
      "provenance": [],
      "collapsed_sections": [],
      "authorship_tag": "ABX9TyNGYqKhYMOnQZTbsWfHYYC8",
      "include_colab_link": true
    },
    "kernelspec": {
      "name": "python3",
      "display_name": "Python 3"
    }
  },
  "cells": [
    {
      "cell_type": "markdown",
      "metadata": {
        "id": "view-in-github",
        "colab_type": "text"
      },
      "source": [
        "<a href=\"https://colab.research.google.com/github/18521564/CS114.K21/blob/master/giuakibai2.ipynb\" target=\"_parent\"><img src=\"https://colab.research.google.com/assets/colab-badge.svg\" alt=\"Open In Colab\"/></a>"
      ]
    },
    {
      "cell_type": "markdown",
      "metadata": {
        "id": "MQtFDc2ws9m0",
        "colab_type": "text"
      },
      "source": [
        "Câu 1: Lấy dữ liệu xuống:\n",
        "Dùng hàm read_csv trong thư viện pandas"
      ]
    },
    {
      "cell_type": "code",
      "metadata": {
        "id": "75yjVENmtCTA",
        "colab_type": "code",
        "outputId": "b4f3d27b-bae9-4b15-bdfb-5ff4c421d244",
        "colab": {
          "base_uri": "https://localhost:8080/",
          "height": 204
        }
      },
      "source": [
        "import numpy as np\n",
        "import pandas as pd\n",
        "data = pd.read_csv('http://cs.uit.edu.vn/data2.txt',names=['Size','Runtime'])\n",
        "data.head()"
      ],
      "execution_count": 0,
      "outputs": [
        {
          "output_type": "execute_result",
          "data": {
            "text/html": [
              "<div>\n",
              "<style scoped>\n",
              "    .dataframe tbody tr th:only-of-type {\n",
              "        vertical-align: middle;\n",
              "    }\n",
              "\n",
              "    .dataframe tbody tr th {\n",
              "        vertical-align: top;\n",
              "    }\n",
              "\n",
              "    .dataframe thead th {\n",
              "        text-align: right;\n",
              "    }\n",
              "</style>\n",
              "<table border=\"1\" class=\"dataframe\">\n",
              "  <thead>\n",
              "    <tr style=\"text-align: right;\">\n",
              "      <th></th>\n",
              "      <th>Size</th>\n",
              "      <th>Runtime</th>\n",
              "    </tr>\n",
              "  </thead>\n",
              "  <tbody>\n",
              "    <tr>\n",
              "      <th>0</th>\n",
              "      <td>6083695</td>\n",
              "      <td>0.521842</td>\n",
              "    </tr>\n",
              "    <tr>\n",
              "      <th>1</th>\n",
              "      <td>1954367</td>\n",
              "      <td>0.152648</td>\n",
              "    </tr>\n",
              "    <tr>\n",
              "      <th>2</th>\n",
              "      <td>3734185</td>\n",
              "      <td>0.298548</td>\n",
              "    </tr>\n",
              "    <tr>\n",
              "      <th>3</th>\n",
              "      <td>5839301</td>\n",
              "      <td>0.460480</td>\n",
              "    </tr>\n",
              "    <tr>\n",
              "      <th>4</th>\n",
              "      <td>6343427</td>\n",
              "      <td>0.527977</td>\n",
              "    </tr>\n",
              "  </tbody>\n",
              "</table>\n",
              "</div>"
            ],
            "text/plain": [
              "      Size   Runtime\n",
              "0  6083695  0.521842\n",
              "1  1954367  0.152648\n",
              "2  3734185  0.298548\n",
              "3  5839301  0.460480\n",
              "4  6343427  0.527977"
            ]
          },
          "metadata": {
            "tags": []
          },
          "execution_count": 33
        }
      ]
    },
    {
      "cell_type": "markdown",
      "metadata": {
        "id": "AZSYKn6jtogh",
        "colab_type": "text"
      },
      "source": [
        "Câu 2: Visualize thử data để chọn model\n"
      ]
    },
    {
      "cell_type": "code",
      "metadata": {
        "id": "7XlhTWaVt9NQ",
        "colab_type": "code",
        "outputId": "0d94945f-4f1a-489d-dfff-d0bdafae18d0",
        "colab": {
          "base_uri": "https://localhost:8080/",
          "height": 278
        }
      },
      "source": [
        "import matplotlib.pyplot as plt\n",
        "plt.scatter(data.iloc[:,0],data.iloc[:,1])\n",
        "plt.show()"
      ],
      "execution_count": 0,
      "outputs": [
        {
          "output_type": "display_data",
          "data": {
            "image/png": "[encoded data removed]",
            "text/plain": [
              "<Figure size 432x288 with 1 Axes>"
            ]
          },
          "metadata": {
            "tags": [],
            "needs_background": "light"
          }
        }
      ]
    },
    {
      "cell_type": "markdown",
      "metadata": {
        "id": "twhFYaQEuAv4",
        "colab_type": "text"
      },
      "source": [
        "Câu 2: Nhận thấy  dữ liệu khá là có quan hệ tuyến tính, dùng linear regression model"
      ]
    },
    {
      "cell_type": "markdown",
      "metadata": {
        "id": "tybBva1MuNFQ",
        "colab_type": "text"
      },
      "source": [
        "Chia tập train và test theo tỉ lệ 80% train 20% test"
      ]
    },
    {
      "cell_type": "code",
      "metadata": {
        "id": "299lOY2euRQh",
        "colab_type": "code",
        "colab": {}
      },
      "source": [
        "from sklearn.model_selection import train_test_split\n",
        "x_train,x_test,y_train,y_test = train_test_split(data.iloc[:,0].values,data.iloc[:,1].values,train_size=0.8)"
      ],
      "execution_count": 0,
      "outputs": []
    },
    {
      "cell_type": "markdown",
      "metadata": {
        "id": "C2GDhdGeuXee",
        "colab_type": "text"
      },
      "source": [
        "Training model\n"
      ]
    },
    {
      "cell_type": "code",
      "metadata": {
        "id": "eTHrDJYEuZn-",
        "colab_type": "code",
        "colab": {}
      },
      "source": [
        "from sklearn.linear_model import LinearRegression\n",
        "it = LinearRegression().fit(x_train[:,np.newaxis],y_train)"
      ],
      "execution_count": 0,
      "outputs": []
    },
    {
      "cell_type": "code",
      "metadata": {
        "id": "9NxGle-cul85",
        "colab_type": "code",
        "colab": {}
      },
      "source": [
        "VISUALIZE KẾT QUẢ TRAINING"
      ],
      "execution_count": 0,
      "outputs": []
    },
    {
      "cell_type": "code",
      "metadata": {
        "id": "de5abWH8un-Y",
        "colab_type": "code",
        "outputId": "12790927-0f3e-4780-f11a-73708d7da68b",
        "colab": {
          "base_uri": "https://localhost:8080/",
          "height": 278
        }
      },
      "source": [
        "xfit = np.linspace(0,10000000,10000)\n",
        "yfit = it.predict(xfit[:,np.newaxis])\n",
        "plt.scatter(data.iloc[:,0],data.iloc[:,1])\n",
        "plt.scatter(xfit,yfit,cmap='gray')\n",
        "plt.show()"
      ],
      "execution_count": 0,
      "outputs": [
        {
          "output_type": "display_data",
          "data": {
            "image/png": "[encoded data removed]",
            "text/plain": [
              "<Figure size 432x288 with 1 Axes>"
            ]
          },
          "metadata": {
            "tags": [],
            "needs_background": "light"
          }
        }
      ]
    },
    {
      "cell_type": "markdown",
      "metadata": {
        "id": "0pOu-Kn0vBsY",
        "colab_type": "text"
      },
      "source": [
        "CÂU 4: KHẢ NĂNG DỰ ĐOÁN CỦA ỨNG DỤNG LÀ TỐT HAY XẤU: \n",
        "ĐÁNH GIÁ ĐỘ CHÍNH XÁC BẰNG SUM SQUARED ERROR TRÊN TẬP TEST: XẤP XỈ 99,75 % \n",
        "\n"
      ]
    },
    {
      "cell_type": "code",
      "metadata": {
        "id": "M3qWqH1QvJ3B",
        "colab_type": "code",
        "outputId": "6c844ae2-c93d-479c-e425-ad24de026597",
        "colab": {
          "base_uri": "https://localhost:8080/",
          "height": 34
        }
      },
      "source": [
        "from sklearn.metrics import r2_score\n",
        "print(r2_score(y_test,it.predict(x_test[:,np.newaxis])))"
      ],
      "execution_count": 0,
      "outputs": [
        {
          "output_type": "stream",
          "text": [
            "0.9974967084121954\n"
          ],
          "name": "stdout"
        }
      ]
    },
    {
      "cell_type": "markdown",
      "metadata": {
        "id": "g51cqQ2evY3o",
        "colab_type": "text"
      },
      "source": [
        "THỬ SO SÁNH 5 GIÁ TRỊ THỰC TẾ VÀ 5 GIÁ TRỊ PREDICT TRONG TẬP TEST"
      ]
    },
    {
      "cell_type": "code",
      "metadata": {
        "id": "f1zP4Awsvenn",
        "colab_type": "code",
        "outputId": "8488fec9-d413-4b60-c3dc-6fd66dfa2b85",
        "colab": {
          "base_uri": "https://localhost:8080/",
          "height": 34
        }
      },
      "source": [
        "#5 GIÁ TRỊ THỰC TẾ\n",
        "y_train[0:5]"
      ],
      "execution_count": 0,
      "outputs": [
        {
          "output_type": "execute_result",
          "data": {
            "text/plain": [
              "array([0.0716861, 0.800752 , 0.227984 , 0.196659 , 0.563604 ])"
            ]
          },
          "metadata": {
            "tags": []
          },
          "execution_count": 37
        }
      ]
    },
    {
      "cell_type": "code",
      "metadata": {
        "id": "3Fh4Tnllvlr0",
        "colab_type": "code",
        "outputId": "5e921bcb-c8f9-4f6c-9c2b-84bb53f93643",
        "colab": {
          "base_uri": "https://localhost:8080/",
          "height": 34
        }
      },
      "source": [
        "#5 GIÁ TRỊ PREDICT\n",
        "it.predict(x_train[:,np.newaxis])[0:5]"
      ],
      "execution_count": 0,
      "outputs": [
        {
          "output_type": "execute_result",
          "data": {
            "text/plain": [
              "array([0.06801434, 0.81039238, 0.22816877, 0.19936978, 0.56291806])"
            ]
          },
          "metadata": {
            "tags": []
          },
          "execution_count": 39
        }
      ]
    },
    {
      "cell_type": "markdown",
      "metadata": {
        "id": "2h2b5O0rxOIs",
        "colab_type": "text"
      },
      "source": [
        "Câu 3: Dự đoán với giá trị bất kì"
      ]
    },
    {
      "cell_type": "code",
      "metadata": {
        "id": "Pbh2SSZAwDTq",
        "colab_type": "code",
        "colab": {}
      },
      "source": [
        "x = eval(input('nhap size: '))\n",
        "me = np.array([x])\n",
        "it.predict(me[:,np.newaxis])"
      ],
      "execution_count": 0,
      "outputs": []
    },
    {
      "cell_type": "code",
      "metadata": {
        "id": "birrMclNx7Im",
        "colab_type": "code",
        "colab": {}
      },
      "source": [
        ""
      ],
      "execution_count": 0,
      "outputs": []
    }
  ]
}