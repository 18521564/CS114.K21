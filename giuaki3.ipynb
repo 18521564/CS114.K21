{
  "nbformat": 4,
  "nbformat_minor": 0,
  "metadata": {
    "colab": {
      "name": "Untitled43.ipynb",
      "provenance": [],
      "collapsed_sections": [],
      "authorship_tag": "ABX9TyN4czC1CIbhbLSfnqZiqI0f",
      "include_colab_link": true
    },
    "kernelspec": {
      "name": "python3",
      "display_name": "Python 3"
    }
  },
  "cells": [
    {
      "cell_type": "markdown",
      "metadata": {
        "id": "view-in-github",
        "colab_type": "text"
      },
      "source": [
        "<a href=\"https://colab.research.google.com/github/18521564/CS114.K21/blob/master/giuaki3.ipynb\" target=\"_parent\"><img src=\"https://colab.research.google.com/assets/colab-badge.svg\" alt=\"Open In Colab\"/></a>"
      ]
    },
    {
      "cell_type": "code",
      "metadata": {
        "id": "75yjVENmtCTA",
        "colab_type": "code",
        "colab": {}
      },
      "source": [
        "import numpy as np\n",
        "import matplotlib.pyplot as plt\n",
        "import pandas as pd\n"
      ],
      "execution_count": 0,
      "outputs": []
    },
    {
      "cell_type": "code",
      "metadata": {
        "id": "TNvIF3oT-v8P",
        "colab_type": "code",
        "outputId": "22bfc9db-bde4-4432-9a92-5ff9e702a490",
        "colab": {
          "base_uri": "https://localhost:8080/",
          "height": 221
        }
      },
      "source": [
        "data = pd.read_csv('http://cs.uit.edu.vn/data3.txt',names=['Size','Runtime'])\n",
        "data = pd.DataFrame(data)\n",
        "data.duplicated()"
      ],
      "execution_count": 69,
      "outputs": [
        {
          "output_type": "execute_result",
          "data": {
            "text/plain": [
              "0        False\n",
              "1        False\n",
              "2        False\n",
              "3        False\n",
              "4        False\n",
              "         ...  \n",
              "10585    False\n",
              "10586    False\n",
              "10587    False\n",
              "10588    False\n",
              "10589    False\n",
              "Length: 10590, dtype: bool"
            ]
          },
          "metadata": {
            "tags": []
          },
          "execution_count": 69
        }
      ]
    },
    {
      "cell_type": "markdown",
      "metadata": {
        "id": "AZSYKn6jtogh",
        "colab_type": "text"
      },
      "source": [
        "Câu 2: Visualize thử data để chọn model\n"
      ]
    },
    {
      "cell_type": "code",
      "metadata": {
        "id": "7XlhTWaVt9NQ",
        "colab_type": "code",
        "outputId": "4c2ce363-2a9a-4123-b7b6-b0abe8f2ac63",
        "colab": {
          "base_uri": "https://localhost:8080/",
          "height": 278
        }
      },
      "source": [
        "import matplotlib.pyplot as plt\n",
        "plt.scatter(data.iloc[:,0],data.iloc[:,1])\n",
        "plt.show()"
      ],
      "execution_count": 70,
      "outputs": [
        {
          "output_type": "display_data",
          "data": {
            "image/png": "[encoded data removed]",
            "text/plain": [
              "<Figure size 432x288 with 1 Axes>"
            ]
          },
          "metadata": {
            "tags": [],
            "needs_background": "light"
          }
        }
      ]
    },
    {
      "cell_type": "markdown",
      "metadata": {
        "id": "jrm-M5eqADvM",
        "colab_type": "text"
      },
      "source": [
        "Ta thấy dữ liệu ở câu bộ data mới có độ phân tán lớn hơn dữ liệu data cũ, một số dữ liệu nằm tách biệt khỏi đám dữ liệu gọi là outlier"
      ]
    },
    {
      "cell_type": "code",
      "metadata": {
        "id": "JFlsoS8t-36H",
        "colab_type": "code",
        "outputId": "3ee8f989-78a0-4e43-def5-a46008f8d994",
        "colab": {
          "base_uri": "https://localhost:8080/",
          "height": 295
        }
      },
      "source": [
        "plt.errorbar(data.iloc[:,0],data.iloc[:,1])"
      ],
      "execution_count": 71,
      "outputs": [
        {
          "output_type": "execute_result",
          "data": {
            "text/plain": [
              "<ErrorbarContainer object of 3 artists>"
            ]
          },
          "metadata": {
            "tags": []
          },
          "execution_count": 71
        },
        {
          "output_type": "display_data",
          "data": {
            "image/png": "[encoded data removed]",
            "text/plain": [
              "<Figure size 432x288 with 1 Axes>"
            ]
          },
          "metadata": {
            "tags": [],
            "needs_background": "light"
          }
        }
      ]
    },
    {
      "cell_type": "markdown",
      "metadata": {
        "id": "tybBva1MuNFQ",
        "colab_type": "text"
      },
      "source": [
        "Chia tập train và test theo tỉ lệ 80% train 20% test"
      ]
    },
    {
      "cell_type": "code",
      "metadata": {
        "id": "299lOY2euRQh",
        "colab_type": "code",
        "colab": {}
      },
      "source": [
        "from sklearn.model_selection import train_test_split\n",
        "x_train,x_test,y_train,y_test = train_test_split(data.iloc[:,0].values,data.iloc[:,1].values,train_size=0.8)"
      ],
      "execution_count": 0,
      "outputs": []
    },
    {
      "cell_type": "markdown",
      "metadata": {
        "id": "C2GDhdGeuXee",
        "colab_type": "text"
      },
      "source": [
        "Training model\n"
      ]
    },
    {
      "cell_type": "code",
      "metadata": {
        "id": "eTHrDJYEuZn-",
        "colab_type": "code",
        "colab": {}
      },
      "source": [
        "from sklearn.linear_model import LinearRegression\n",
        "it = LinearRegression().fit(x_train[:,np.newaxis],y_train)"
      ],
      "execution_count": 0,
      "outputs": []
    },
    {
      "cell_type": "code",
      "metadata": {
        "id": "de5abWH8un-Y",
        "colab_type": "code",
        "colab": {
          "base_uri": "https://localhost:8080/",
          "height": 278
        },
        "outputId": "e6837015-2096-4265-e4ea-7477932a6217"
      },
      "source": [
        "xfit = np.linspace(2*10000000,4*10000000,10000)\n",
        "yfit = it.predict(xfit[:,np.newaxis])\n",
        "plt.scatter(data.iloc[:,0],data.iloc[:,1])\n",
        "plt.scatter(xfit,yfit,color='orange')\n",
        "plt.show()"
      ],
      "execution_count": 74,
      "outputs": [
        {
          "output_type": "display_data",
          "data": {
            "image/png": "[encoded data removed]",
            "text/plain": [
              "<Figure size 432x288 with 1 Axes>"
            ]
          },
          "metadata": {
            "tags": [],
            "needs_background": "light"
          }
        }
      ]
    },
    {
      "cell_type": "markdown",
      "metadata": {
        "id": "0pOu-Kn0vBsY",
        "colab_type": "text"
      },
      "source": [
        "ĐÚNG NHƯ DỰ ĐOÁN, r2 SCORE THẤP HƠN KẾT QUẢ CỦA DATA CŨ (99,75) CHỈ CÓ (98,7%)\n",
        "outlier CỦA DỮ LIỆU ĐÃ ẢNH HƯỞNG ĐẾN KẾT QUẢ\n"
      ]
    },
    {
      "cell_type": "code",
      "metadata": {
        "id": "M3qWqH1QvJ3B",
        "colab_type": "code",
        "colab": {
          "base_uri": "https://localhost:8080/",
          "height": 34
        },
        "outputId": "f1f6dd43-2c90-45ab-de95-a2d0b64533d0"
      },
      "source": [
        "from sklearn.metrics import r2_score\n",
        "print(r2_score(y_test,it.predict(x_test[:,np.newaxis])))"
      ],
      "execution_count": 75,
      "outputs": [
        {
          "output_type": "stream",
          "text": [
            "0.9889045813842648\n"
          ],
          "name": "stdout"
        }
      ]
    },
    {
      "cell_type": "markdown",
      "metadata": {
        "id": "bH3c4_bICwVN",
        "colab_type": "text"
      },
      "source": [
        "TĂNG HIỆU SUẤT MODEL BẰNG PHƯƠNG PHÁP ADDING MORE FEATURES:\n",
        "Thêm một cột nữa là 1/1E7 của cột size"
      ]
    },
    {
      "cell_type": "markdown",
      "metadata": {
        "id": "s7k3oCC2E6ZT",
        "colab_type": "text"
      },
      "source": [
        "Xử lý bằng phương pháp adding more features\n",
        "Cụ thể là: thêm một cột nữa là bình phương của cột Size\n"
      ]
    },
    {
      "cell_type": "code",
      "metadata": {
        "id": "_XIXWmshB_PL",
        "colab_type": "code",
        "colab": {
          "base_uri": "https://localhost:8080/",
          "height": 419
        },
        "outputId": "b9207841-c25a-42c3-ff96-8e8445b12f0b"
      },
      "source": [
        "data['Size2'] = data['Size']/(1e7)\n",
        "data"
      ],
      "execution_count": 97,
      "outputs": [
        {
          "output_type": "execute_result",
          "data": {
            "text/html": [
              "<div>\n",
              "<style scoped>\n",
              "    .dataframe tbody tr th:only-of-type {\n",
              "        vertical-align: middle;\n",
              "    }\n",
              "\n",
              "    .dataframe tbody tr th {\n",
              "        vertical-align: top;\n",
              "    }\n",
              "\n",
              "    .dataframe thead th {\n",
              "        text-align: right;\n",
              "    }\n",
              "</style>\n",
              "<table border=\"1\" class=\"dataframe\">\n",
              "  <thead>\n",
              "    <tr style=\"text-align: right;\">\n",
              "      <th></th>\n",
              "      <th>Size</th>\n",
              "      <th>Runtime</th>\n",
              "      <th>Size2</th>\n",
              "    </tr>\n",
              "  </thead>\n",
              "  <tbody>\n",
              "    <tr>\n",
              "      <th>0</th>\n",
              "      <td>37837612</td>\n",
              "      <td>4.12166</td>\n",
              "      <td>3.783761</td>\n",
              "    </tr>\n",
              "    <tr>\n",
              "      <th>1</th>\n",
              "      <td>37395246</td>\n",
              "      <td>3.92089</td>\n",
              "      <td>3.739525</td>\n",
              "    </tr>\n",
              "    <tr>\n",
              "      <th>2</th>\n",
              "      <td>36610827</td>\n",
              "      <td>3.21540</td>\n",
              "      <td>3.661083</td>\n",
              "    </tr>\n",
              "    <tr>\n",
              "      <th>3</th>\n",
              "      <td>29555651</td>\n",
              "      <td>2.54506</td>\n",
              "      <td>2.955565</td>\n",
              "    </tr>\n",
              "    <tr>\n",
              "      <th>4</th>\n",
              "      <td>25928216</td>\n",
              "      <td>2.21831</td>\n",
              "      <td>2.592822</td>\n",
              "    </tr>\n",
              "    <tr>\n",
              "      <th>...</th>\n",
              "      <td>...</td>\n",
              "      <td>...</td>\n",
              "      <td>...</td>\n",
              "    </tr>\n",
              "    <tr>\n",
              "      <th>10585</th>\n",
              "      <td>26872494</td>\n",
              "      <td>2.35117</td>\n",
              "      <td>2.687249</td>\n",
              "    </tr>\n",
              "    <tr>\n",
              "      <th>10586</th>\n",
              "      <td>20753811</td>\n",
              "      <td>1.79155</td>\n",
              "      <td>2.075381</td>\n",
              "    </tr>\n",
              "    <tr>\n",
              "      <th>10587</th>\n",
              "      <td>33520323</td>\n",
              "      <td>2.90918</td>\n",
              "      <td>3.352032</td>\n",
              "    </tr>\n",
              "    <tr>\n",
              "      <th>10588</th>\n",
              "      <td>21243264</td>\n",
              "      <td>1.80292</td>\n",
              "      <td>2.124326</td>\n",
              "    </tr>\n",
              "    <tr>\n",
              "      <th>10589</th>\n",
              "      <td>21380484</td>\n",
              "      <td>1.82795</td>\n",
              "      <td>2.138048</td>\n",
              "    </tr>\n",
              "  </tbody>\n",
              "</table>\n",
              "<p>10590 rows × 3 columns</p>\n",
              "</div>"
            ],
            "text/plain": [
              "           Size  Runtime     Size2\n",
              "0      37837612  4.12166  3.783761\n",
              "1      37395246  3.92089  3.739525\n",
              "2      36610827  3.21540  3.661083\n",
              "3      29555651  2.54506  2.955565\n",
              "4      25928216  2.21831  2.592822\n",
              "...         ...      ...       ...\n",
              "10585  26872494  2.35117  2.687249\n",
              "10586  20753811  1.79155  2.075381\n",
              "10587  33520323  2.90918  3.352032\n",
              "10588  21243264  1.80292  2.124326\n",
              "10589  21380484  1.82795  2.138048\n",
              "\n",
              "[10590 rows x 3 columns]"
            ]
          },
          "metadata": {
            "tags": []
          },
          "execution_count": 97
        }
      ]
    },
    {
      "cell_type": "code",
      "metadata": {
        "id": "yup_NQJALD0k",
        "colab_type": "code",
        "colab": {
          "base_uri": "https://localhost:8080/",
          "height": 34
        },
        "outputId": "872a1c9f-13af-4bbb-ec81-c9f9611ab9cc"
      },
      "source": [
        "#thay đổi tập train, test\n",
        "from sklearn.model_selection import train_test_split\n",
        "x_train,x_test,y_train,y_test = train_test_split(data.iloc[:,[0,2]].values,data.iloc[:,1].values,train_size=0.8)\n",
        "x_train.shape\n",
        "\n"
      ],
      "execution_count": 120,
      "outputs": [
        {
          "output_type": "execute_result",
          "data": {
            "text/plain": [
              "(8472, 2)"
            ]
          },
          "metadata": {
            "tags": []
          },
          "execution_count": 120
        }
      ]
    },
    {
      "cell_type": "code",
      "metadata": {
        "id": "qycERkNqOoEE",
        "colab_type": "code",
        "colab": {}
      },
      "source": [
        "from sklearn.linear_model import LinearRegression\n",
        "it = LinearRegression().fit(x_train,y_train)"
      ],
      "execution_count": 0,
      "outputs": []
    },
    {
      "cell_type": "code",
      "metadata": {
        "id": "m_zJPUxRO69j",
        "colab_type": "code",
        "colab": {
          "base_uri": "https://localhost:8080/",
          "height": 34
        },
        "outputId": "89198eef-b1b9-4d07-852d-b9492a5bacb6"
      },
      "source": [
        "from sklearn.metrics import r2_score\n",
        "print(r2_score(y_test,it.predict(x_test)))"
      ],
      "execution_count": 101,
      "outputs": [
        {
          "output_type": "stream",
          "text": [
            "0.9899229899229564\n"
          ],
          "name": "stdout"
        }
      ]
    },
    {
      "cell_type": "markdown",
      "metadata": {
        "id": "UTEvRSMOP3Hu",
        "colab_type": "text"
      },
      "source": [
        "Cao hơn kết quả gốc:\n",
        "Giải thích: Vì có thể rút đám outlier lại gần đám mây dữ liệu, làm mất bớt outlier"
      ]
    },
    {
      "cell_type": "code",
      "metadata": {
        "id": "87QLqnTCSADU",
        "colab_type": "code",
        "colab": {
          "base_uri": "https://localhost:8080/",
          "height": 204
        },
        "outputId": "3115ec42-e6fd-4786-821b-f0a20e03dd2d"
      },
      "source": [
        "#ứng dụng dự đoán\n",
        "n = eval(input('nhap so lan du doan: '))\n",
        "for i in range(n):\n",
        " x = eval(input('nhap size :'))\n",
        " arr = np.array([x,x/1e7]).reshape(-1,2)\n",
        " print('Timerun:',it.predict(arr))"
      ],
      "execution_count": 126,
      "outputs": [
        {
          "output_type": "stream",
          "text": [
            "nhap so lan du doan: 5\n",
            "nhap size :36012167\n",
            "Timerun: [3.20060373]\n",
            "nhap size :20012216\n",
            "Timerun: [1.71832701]\n",
            "nhap size :32809510\n",
            "Timerun: [2.90390132]\n",
            "nhap size :24871158\n",
            "Timerun: [2.16847193]\n",
            "nhap size :37837612\n",
            "Timerun: [3.36971766]\n"
          ],
          "name": "stdout"
        }
      ]
    },
    {
      "cell_type": "code",
      "metadata": {
        "id": "boJaZIwrSJuZ",
        "colab_type": "code",
        "colab": {}
      },
      "source": [
        ""
      ],
      "execution_count": 0,
      "outputs": []
    }
  ]
}